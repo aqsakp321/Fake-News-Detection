{
  "cells": [
    {
      "cell_type": "code",
      "execution_count": 1,
      "id": "22d1a416",
      "metadata": {},
      "outputs": [
        {
          "name": "stdout",
          "output_type": "stream",
          "text": [
            "Requirement already satisfied: pandas in c:\\users\\owais\\appdata\\local\\programs\\python\\python312\\lib\\site-packages (2.2.3)\n",
            "Requirement already satisfied: numpy>=1.26.0 in c:\\users\\owais\\appdata\\local\\programs\\python\\python312\\lib\\site-packages (from pandas) (2.1.3)\n",
            "Requirement already satisfied: python-dateutil>=2.8.2 in c:\\users\\owais\\appdata\\local\\programs\\python\\python312\\lib\\site-packages (from pandas) (2.9.0.post0)\n",
            "Requirement already satisfied: pytz>=2020.1 in c:\\users\\owais\\appdata\\local\\programs\\python\\python312\\lib\\site-packages (from pandas) (2025.2)\n",
            "Requirement already satisfied: tzdata>=2022.7 in c:\\users\\owais\\appdata\\local\\programs\\python\\python312\\lib\\site-packages (from pandas) (2025.2)\n",
            "Requirement already satisfied: six>=1.5 in c:\\users\\owais\\appdata\\local\\programs\\python\\python312\\lib\\site-packages (from python-dateutil>=2.8.2->pandas) (1.17.0)\n"
          ]
        },
        {
          "name": "stderr",
          "output_type": "stream",
          "text": [
            "\n",
            "[notice] A new release of pip is available: 23.2.1 -> 25.1.1\n",
            "[notice] To update, run: python.exe -m pip install --upgrade pip\n"
          ]
        }
      ],
      "source": [
        "!pip install pandas"
      ]
    },
    {
      "cell_type": "code",
      "execution_count": 2,
      "id": "862f20bc",
      "metadata": {
        "execution": {
          "iopub.execute_input": "2024-06-26T18:27:48.635892Z",
          "iopub.status.busy": "2024-06-26T18:27:48.634864Z",
          "iopub.status.idle": "2024-06-26T18:27:50.546904Z",
          "shell.execute_reply": "2024-06-26T18:27:50.546064Z"
        },
        "id": "862f20bc",
        "papermill": {
          "duration": 1.929086,
          "end_time": "2024-06-26T18:27:50.549381",
          "exception": false,
          "start_time": "2024-06-26T18:27:48.620295",
          "status": "completed"
        },
        "tags": []
      },
      "outputs": [],
      "source": [
        "# import matplotlib.pyplot as plt\n",
        "import pandas as pd"
      ]
    },
    {
      "cell_type": "markdown",
      "id": "fbc36033",
      "metadata": {
        "id": "fbc36033",
        "papermill": {
          "duration": 0.01324,
          "end_time": "2024-06-26T18:27:50.576590",
          "exception": false,
          "start_time": "2024-06-26T18:27:50.563350",
          "status": "completed"
        },
        "tags": []
      },
      "source": [
        "---\n",
        "### Load Dataset\n",
        "---"
      ]
    },
    {
      "cell_type": "code",
      "execution_count": 3,
      "id": "299e2968",
      "metadata": {
        "execution": {
          "iopub.execute_input": "2024-06-26T18:27:50.605763Z",
          "iopub.status.busy": "2024-06-26T18:27:50.605401Z",
          "iopub.status.idle": "2024-06-26T18:27:53.390773Z",
          "shell.execute_reply": "2024-06-26T18:27:53.389905Z"
        },
        "id": "299e2968",
        "papermill": {
          "duration": 2.802472,
          "end_time": "2024-06-26T18:27:53.393296",
          "exception": false,
          "start_time": "2024-06-26T18:27:50.590824",
          "status": "completed"
        },
        "tags": []
      },
      "outputs": [],
      "source": [
        "df = pd.read_csv('News _dataset\\\\fake_real_indian_data.csv')"
      ]
    },
    {
      "cell_type": "markdown",
      "id": "9d2be30a",
      "metadata": {
        "id": "9d2be30a",
        "papermill": {
          "duration": 0.013464,
          "end_time": "2024-06-26T18:27:53.420736",
          "exception": false,
          "start_time": "2024-06-26T18:27:53.407272",
          "status": "completed"
        },
        "tags": []
      },
      "source": [
        "---\n",
        "### EDA\n",
        "---"
      ]
    },
    {
      "cell_type": "code",
      "execution_count": 4,
      "id": "e3e932e0",
      "metadata": {
        "colab": {
          "base_uri": "https://localhost:8080/",
          "height": 293
        },
        "execution": {
          "iopub.execute_input": "2024-06-26T18:27:53.449099Z",
          "iopub.status.busy": "2024-06-26T18:27:53.448713Z",
          "iopub.status.idle": "2024-06-26T18:27:53.468072Z",
          "shell.execute_reply": "2024-06-26T18:27:53.467064Z"
        },
        "id": "e3e932e0",
        "outputId": "be6b5808-c34c-4351-a9fa-556a69bf321c",
        "papermill": {
          "duration": 0.03599,
          "end_time": "2024-06-26T18:27:53.470096",
          "exception": false,
          "start_time": "2024-06-26T18:27:53.434106",
          "status": "completed"
        },
        "tags": []
      },
      "outputs": [
        {
          "data": {
            "text/html": [
              "<div>\n",
              "<style scoped>\n",
              "    .dataframe tbody tr th:only-of-type {\n",
              "        vertical-align: middle;\n",
              "    }\n",
              "\n",
              "    .dataframe tbody tr th {\n",
              "        vertical-align: top;\n",
              "    }\n",
              "\n",
              "    .dataframe thead th {\n",
              "        text-align: right;\n",
              "    }\n",
              "</style>\n",
              "<table border=\"1\" class=\"dataframe\">\n",
              "  <thead>\n",
              "    <tr style=\"text-align: right;\">\n",
              "      <th></th>\n",
              "      <th>label</th>\n",
              "      <th>text</th>\n",
              "    </tr>\n",
              "  </thead>\n",
              "  <tbody>\n",
              "    <tr>\n",
              "      <th>0</th>\n",
              "      <td>REAL</td>\n",
              "      <td>Payal has accused filmmaker Anurag Kashyap of ...</td>\n",
              "    </tr>\n",
              "    <tr>\n",
              "      <th>1</th>\n",
              "      <td>FAKE</td>\n",
              "      <td>A four-minute-long video of a woman criticisin...</td>\n",
              "    </tr>\n",
              "    <tr>\n",
              "      <th>2</th>\n",
              "      <td>FAKE</td>\n",
              "      <td>Republic Poll, a fake Twitter account imitatin...</td>\n",
              "    </tr>\n",
              "    <tr>\n",
              "      <th>3</th>\n",
              "      <td>REAL</td>\n",
              "      <td>Delhi teen finds place on UN green list, turns...</td>\n",
              "    </tr>\n",
              "    <tr>\n",
              "      <th>4</th>\n",
              "      <td>REAL</td>\n",
              "      <td>Delhi: A high-level meeting underway at reside...</td>\n",
              "    </tr>\n",
              "  </tbody>\n",
              "</table>\n",
              "</div>"
            ],
            "text/plain": [
              "  label                                               text\n",
              "0  REAL  Payal has accused filmmaker Anurag Kashyap of ...\n",
              "1  FAKE  A four-minute-long video of a woman criticisin...\n",
              "2  FAKE  Republic Poll, a fake Twitter account imitatin...\n",
              "3  REAL  Delhi teen finds place on UN green list, turns...\n",
              "4  REAL  Delhi: A high-level meeting underway at reside..."
            ]
          },
          "execution_count": 4,
          "metadata": {},
          "output_type": "execute_result"
        }
      ],
      "source": [
        "df.head()"
      ]
    },
    {
      "cell_type": "code",
      "execution_count": 5,
      "id": "ad1291b2",
      "metadata": {
        "colab": {
          "base_uri": "https://localhost:8080/",
          "height": 175
        },
        "execution": {
          "iopub.execute_input": "2024-06-26T18:27:53.540378Z",
          "iopub.status.busy": "2024-06-26T18:27:53.539748Z",
          "iopub.status.idle": "2024-06-26T18:27:53.617848Z",
          "shell.execute_reply": "2024-06-26T18:27:53.616770Z"
        },
        "id": "ad1291b2",
        "outputId": "5359fe44-523c-4225-c762-c3de66dc310f",
        "papermill": {
          "duration": 0.095501,
          "end_time": "2024-06-26T18:27:53.620136",
          "exception": false,
          "start_time": "2024-06-26T18:27:53.524635",
          "status": "completed"
        },
        "tags": []
      },
      "outputs": [
        {
          "data": {
            "text/html": [
              "<div>\n",
              "<style scoped>\n",
              "    .dataframe tbody tr th:only-of-type {\n",
              "        vertical-align: middle;\n",
              "    }\n",
              "\n",
              "    .dataframe tbody tr th {\n",
              "        vertical-align: top;\n",
              "    }\n",
              "\n",
              "    .dataframe thead th {\n",
              "        text-align: right;\n",
              "    }\n",
              "</style>\n",
              "<table border=\"1\" class=\"dataframe\">\n",
              "  <thead>\n",
              "    <tr style=\"text-align: right;\">\n",
              "      <th></th>\n",
              "      <th>label</th>\n",
              "      <th>text</th>\n",
              "    </tr>\n",
              "  </thead>\n",
              "  <tbody>\n",
              "    <tr>\n",
              "      <th>count</th>\n",
              "      <td>3729</td>\n",
              "      <td>3721</td>\n",
              "    </tr>\n",
              "    <tr>\n",
              "      <th>unique</th>\n",
              "      <td>2</td>\n",
              "      <td>2229</td>\n",
              "    </tr>\n",
              "    <tr>\n",
              "      <th>top</th>\n",
              "      <td>FAKE</td>\n",
              "      <td>Highest IPL score in Dubai\\n\\nMilestones to wa...</td>\n",
              "    </tr>\n",
              "    <tr>\n",
              "      <th>freq</th>\n",
              "      <td>1877</td>\n",
              "      <td>79</td>\n",
              "    </tr>\n",
              "  </tbody>\n",
              "</table>\n",
              "</div>"
            ],
            "text/plain": [
              "       label                                               text\n",
              "count   3729                                               3721\n",
              "unique     2                                               2229\n",
              "top     FAKE  Highest IPL score in Dubai\\n\\nMilestones to wa...\n",
              "freq    1877                                                 79"
            ]
          },
          "execution_count": 5,
          "metadata": {},
          "output_type": "execute_result"
        }
      ],
      "source": [
        "df.describe()"
      ]
    },
    {
      "cell_type": "code",
      "execution_count": 8,
      "id": "09ed5f0b",
      "metadata": {
        "colab": {
          "base_uri": "https://localhost:8080/",
          "height": 810
        },
        "execution": {
          "iopub.execute_input": "2024-06-26T18:27:53.818739Z",
          "iopub.status.busy": "2024-06-26T18:27:53.817916Z",
          "iopub.status.idle": "2024-06-26T18:27:53.871924Z",
          "shell.execute_reply": "2024-06-26T18:27:53.870997Z"
        },
        "id": "09ed5f0b",
        "outputId": "b08b47f9-a844-4c96-f138-dc448db70da4",
        "papermill": {
          "duration": 0.071636,
          "end_time": "2024-06-26T18:27:53.873925",
          "exception": false,
          "start_time": "2024-06-26T18:27:53.802289",
          "status": "completed"
        },
        "tags": []
      },
      "outputs": [],
      "source": [
        "df['target'] = df['label'].apply(lambda x: 1 if x == 'REAL' else 0)\n"
      ]
    },
    {
      "cell_type": "markdown",
      "id": "428d5ed0",
      "metadata": {
        "id": "428d5ed0",
        "papermill": {
          "duration": 0.014665,
          "end_time": "2024-06-26T18:27:53.903799",
          "exception": false,
          "start_time": "2024-06-26T18:27:53.889134",
          "status": "completed"
        },
        "tags": []
      },
      "source": [
        "---\n",
        "1. Data shape\n",
        "---"
      ]
    },
    {
      "cell_type": "code",
      "execution_count": 9,
      "id": "459e9964",
      "metadata": {
        "colab": {
          "base_uri": "https://localhost:8080/"
        },
        "execution": {
          "iopub.execute_input": "2024-06-26T18:27:53.935455Z",
          "iopub.status.busy": "2024-06-26T18:27:53.934640Z",
          "iopub.status.idle": "2024-06-26T18:27:53.939741Z",
          "shell.execute_reply": "2024-06-26T18:27:53.938787Z"
        },
        "id": "459e9964",
        "outputId": "7eb1fa0f-db2f-4dae-e201-46e84fc00b9e",
        "papermill": {
          "duration": 0.023095,
          "end_time": "2024-06-26T18:27:53.941789",
          "exception": false,
          "start_time": "2024-06-26T18:27:53.918694",
          "status": "completed"
        },
        "tags": []
      },
      "outputs": [
        {
          "name": "stdout",
          "output_type": "stream",
          "text": [
            "The number of columns: = 3\n",
            " The number of rows: = 3729\n"
          ]
        }
      ],
      "source": [
        "print(f'The number of columns: = {df.shape[1]}\\n The number of rows: = {df.shape[0]}')"
      ]
    },
    {
      "cell_type": "markdown",
      "id": "c651e676",
      "metadata": {
        "id": "c651e676",
        "papermill": {
          "duration": 0.014719,
          "end_time": "2024-06-26T18:27:53.971384",
          "exception": false,
          "start_time": "2024-06-26T18:27:53.956665",
          "status": "completed"
        },
        "tags": []
      },
      "source": [
        "---\n",
        "### Check duplicates\n",
        "---"
      ]
    },
    {
      "cell_type": "code",
      "execution_count": 10,
      "id": "845d3de3",
      "metadata": {
        "colab": {
          "base_uri": "https://localhost:8080/"
        },
        "execution": {
          "iopub.execute_input": "2024-06-26T18:27:54.003170Z",
          "iopub.status.busy": "2024-06-26T18:27:54.002365Z",
          "iopub.status.idle": "2024-06-26T18:27:54.367388Z",
          "shell.execute_reply": "2024-06-26T18:27:54.366094Z"
        },
        "id": "845d3de3",
        "outputId": "1067d826-9d0d-4069-cd16-bcc3463dddd0",
        "papermill": {
          "duration": 0.389222,
          "end_time": "2024-06-26T18:27:54.375552",
          "exception": false,
          "start_time": "2024-06-26T18:27:53.986330",
          "status": "completed"
        },
        "tags": []
      },
      "outputs": [
        {
          "data": {
            "text/plain": [
              "np.int64(1498)"
            ]
          },
          "execution_count": 10,
          "metadata": {},
          "output_type": "execute_result"
        }
      ],
      "source": [
        "df.duplicated().sum()"
      ]
    },
    {
      "cell_type": "markdown",
      "id": "297f6d3e",
      "metadata": {
        "id": "297f6d3e",
        "papermill": {
          "duration": 0.019225,
          "end_time": "2024-06-26T18:27:54.417663",
          "exception": false,
          "start_time": "2024-06-26T18:27:54.398438",
          "status": "completed"
        },
        "tags": []
      },
      "source": [
        "---\n",
        "### drop duplicates\n",
        "---"
      ]
    },
    {
      "cell_type": "code",
      "execution_count": 11,
      "id": "c9cc6fd6",
      "metadata": {
        "execution": {
          "iopub.execute_input": "2024-06-26T18:27:54.449910Z",
          "iopub.status.busy": "2024-06-26T18:27:54.449547Z",
          "iopub.status.idle": "2024-06-26T18:27:54.748865Z",
          "shell.execute_reply": "2024-06-26T18:27:54.747997Z"
        },
        "id": "c9cc6fd6",
        "papermill": {
          "duration": 0.318498,
          "end_time": "2024-06-26T18:27:54.751291",
          "exception": false,
          "start_time": "2024-06-26T18:27:54.432793",
          "status": "completed"
        },
        "tags": []
      },
      "outputs": [],
      "source": [
        "df = df.drop_duplicates()"
      ]
    },
    {
      "cell_type": "code",
      "execution_count": 12,
      "id": "f8da8715",
      "metadata": {
        "colab": {
          "base_uri": "https://localhost:8080/"
        },
        "execution": {
          "iopub.execute_input": "2024-06-26T18:27:54.783847Z",
          "iopub.status.busy": "2024-06-26T18:27:54.783251Z",
          "iopub.status.idle": "2024-06-26T18:27:55.072835Z",
          "shell.execute_reply": "2024-06-26T18:27:55.071852Z"
        },
        "id": "f8da8715",
        "outputId": "762ec9bb-4c59-415f-c5f8-cdb728539b57",
        "papermill": {
          "duration": 0.308211,
          "end_time": "2024-06-26T18:27:55.075128",
          "exception": false,
          "start_time": "2024-06-26T18:27:54.766917",
          "status": "completed"
        },
        "tags": []
      },
      "outputs": [
        {
          "data": {
            "text/plain": [
              "np.int64(0)"
            ]
          },
          "execution_count": 12,
          "metadata": {},
          "output_type": "execute_result"
        }
      ],
      "source": [
        "df.duplicated().sum()"
      ]
    },
    {
      "cell_type": "markdown",
      "id": "714664d8",
      "metadata": {
        "id": "714664d8",
        "papermill": {
          "duration": 0.058097,
          "end_time": "2024-06-26T18:27:55.148750",
          "exception": false,
          "start_time": "2024-06-26T18:27:55.090653",
          "status": "completed"
        },
        "tags": []
      },
      "source": [
        "---\n",
        "### drop blanks columns\n",
        "---"
      ]
    },
    {
      "cell_type": "code",
      "execution_count": 13,
      "id": "e9d4d8a5",
      "metadata": {
        "execution": {
          "iopub.execute_input": "2024-06-26T18:27:55.181189Z",
          "iopub.status.busy": "2024-06-26T18:27:55.180460Z",
          "iopub.status.idle": "2024-06-26T18:27:55.208858Z",
          "shell.execute_reply": "2024-06-26T18:27:55.208082Z"
        },
        "id": "e9d4d8a5",
        "papermill": {
          "duration": 0.046865,
          "end_time": "2024-06-26T18:27:55.210880",
          "exception": false,
          "start_time": "2024-06-26T18:27:55.164015",
          "status": "completed"
        },
        "tags": []
      },
      "outputs": [
        {
          "name": "stderr",
          "output_type": "stream",
          "text": [
            "C:\\Users\\owais\\AppData\\Local\\Temp\\ipykernel_50508\\131904049.py:5: SettingWithCopyWarning: \n",
            "A value is trying to be set on a copy of a slice from a DataFrame\n",
            "\n",
            "See the caveats in the documentation: https://pandas.pydata.org/pandas-docs/stable/user_guide/indexing.html#returning-a-view-versus-a-copy\n",
            "  df.drop(df[blanks].index, inplace=True)\n"
          ]
        }
      ],
      "source": [
        "# Identify the rows with blank values\n",
        "blanks = df.isnull().any(axis=1)\n",
        "\n",
        "# Drop the rows with blank values\n",
        "df.drop(df[blanks].index, inplace=True)"
      ]
    },
    {
      "cell_type": "code",
      "execution_count": 14,
      "id": "1e9961a5",
      "metadata": {
        "colab": {
          "base_uri": "https://localhost:8080/"
        },
        "execution": {
          "iopub.execute_input": "2024-06-26T18:27:55.244470Z",
          "iopub.status.busy": "2024-06-26T18:27:55.244137Z",
          "iopub.status.idle": "2024-06-26T18:27:55.249432Z",
          "shell.execute_reply": "2024-06-26T18:27:55.248499Z"
        },
        "id": "1e9961a5",
        "outputId": "820ba521-ab5c-4c6f-f086-b15d131f5097",
        "papermill": {
          "duration": 0.023946,
          "end_time": "2024-06-26T18:27:55.251615",
          "exception": false,
          "start_time": "2024-06-26T18:27:55.227669",
          "status": "completed"
        },
        "tags": []
      },
      "outputs": [
        {
          "name": "stdout",
          "output_type": "stream",
          "text": [
            "The number of columns: = 3\n",
            " The number of rows: = 2229\n"
          ]
        }
      ],
      "source": [
        "print(f'The number of columns: = {df.shape[1]}\\n The number of rows: = {df.shape[0]}')"
      ]
    },
    {
      "cell_type": "code",
      "execution_count": 15,
      "id": "50e140a9",
      "metadata": {
        "colab": {
          "base_uri": "https://localhost:8080/",
          "height": 178
        },
        "execution": {
          "iopub.execute_input": "2024-06-26T18:27:55.284361Z",
          "iopub.status.busy": "2024-06-26T18:27:55.283591Z",
          "iopub.status.idle": "2024-06-26T18:27:55.292442Z",
          "shell.execute_reply": "2024-06-26T18:27:55.291518Z"
        },
        "id": "50e140a9",
        "outputId": "4963e521-3be4-426a-862c-9c8bb1468c79",
        "papermill": {
          "duration": 0.027101,
          "end_time": "2024-06-26T18:27:55.294391",
          "exception": false,
          "start_time": "2024-06-26T18:27:55.267290",
          "status": "completed"
        },
        "tags": []
      },
      "outputs": [
        {
          "data": {
            "text/plain": [
              "target\n",
              "0    1851\n",
              "1     378\n",
              "Name: count, dtype: int64"
            ]
          },
          "execution_count": 15,
          "metadata": {},
          "output_type": "execute_result"
        }
      ],
      "source": [
        "df['target'].value_counts()"
      ]
    },
    {
      "cell_type": "code",
      "execution_count": 17,
      "id": "402202f6",
      "metadata": {
        "colab": {
          "base_uri": "https://localhost:8080/",
          "height": 293
        },
        "execution": {
          "iopub.execute_input": "2024-06-26T18:27:56.011051Z",
          "iopub.status.busy": "2024-06-26T18:27:56.009997Z",
          "iopub.status.idle": "2024-06-26T18:27:56.021469Z",
          "shell.execute_reply": "2024-06-26T18:27:56.020533Z"
        },
        "id": "402202f6",
        "outputId": "186f7dee-7a55-4979-d160-3b38878d927d",
        "papermill": {
          "duration": 0.031964,
          "end_time": "2024-06-26T18:27:56.023557",
          "exception": false,
          "start_time": "2024-06-26T18:27:55.991593",
          "status": "completed"
        },
        "tags": []
      },
      "outputs": [
        {
          "data": {
            "text/html": [
              "<div>\n",
              "<style scoped>\n",
              "    .dataframe tbody tr th:only-of-type {\n",
              "        vertical-align: middle;\n",
              "    }\n",
              "\n",
              "    .dataframe tbody tr th {\n",
              "        vertical-align: top;\n",
              "    }\n",
              "\n",
              "    .dataframe thead th {\n",
              "        text-align: right;\n",
              "    }\n",
              "</style>\n",
              "<table border=\"1\" class=\"dataframe\">\n",
              "  <thead>\n",
              "    <tr style=\"text-align: right;\">\n",
              "      <th></th>\n",
              "      <th>label</th>\n",
              "      <th>text</th>\n",
              "      <th>target</th>\n",
              "    </tr>\n",
              "  </thead>\n",
              "  <tbody>\n",
              "    <tr>\n",
              "      <th>0</th>\n",
              "      <td>REAL</td>\n",
              "      <td>Payal has accused filmmaker Anurag Kashyap of ...</td>\n",
              "      <td>1</td>\n",
              "    </tr>\n",
              "    <tr>\n",
              "      <th>1</th>\n",
              "      <td>FAKE</td>\n",
              "      <td>A four-minute-long video of a woman criticisin...</td>\n",
              "      <td>0</td>\n",
              "    </tr>\n",
              "    <tr>\n",
              "      <th>2</th>\n",
              "      <td>FAKE</td>\n",
              "      <td>Republic Poll, a fake Twitter account imitatin...</td>\n",
              "      <td>0</td>\n",
              "    </tr>\n",
              "    <tr>\n",
              "      <th>3</th>\n",
              "      <td>REAL</td>\n",
              "      <td>Delhi teen finds place on UN green list, turns...</td>\n",
              "      <td>1</td>\n",
              "    </tr>\n",
              "    <tr>\n",
              "      <th>4</th>\n",
              "      <td>REAL</td>\n",
              "      <td>Delhi: A high-level meeting underway at reside...</td>\n",
              "      <td>1</td>\n",
              "    </tr>\n",
              "  </tbody>\n",
              "</table>\n",
              "</div>"
            ],
            "text/plain": [
              "  label                                               text  target\n",
              "0  REAL  Payal has accused filmmaker Anurag Kashyap of ...       1\n",
              "1  FAKE  A four-minute-long video of a woman criticisin...       0\n",
              "2  FAKE  Republic Poll, a fake Twitter account imitatin...       0\n",
              "3  REAL  Delhi teen finds place on UN green list, turns...       1\n",
              "4  REAL  Delhi: A high-level meeting underway at reside...       1"
            ]
          },
          "execution_count": 17,
          "metadata": {},
          "output_type": "execute_result"
        }
      ],
      "source": [
        "df.head()"
      ]
    },
    {
      "cell_type": "markdown",
      "id": "dfb1ce14",
      "metadata": {
        "id": "dfb1ce14",
        "papermill": {
          "duration": 0.017282,
          "end_time": "2024-06-26T18:27:56.058204",
          "exception": false,
          "start_time": "2024-06-26T18:27:56.040922",
          "status": "completed"
        },
        "tags": []
      },
      "source": [
        "---\n",
        "## **Needed only columns one is**\n",
        "* text\n",
        "* target\n",
        "---"
      ]
    },
    {
      "cell_type": "code",
      "execution_count": 18,
      "id": "adf19265",
      "metadata": {
        "execution": {
          "iopub.execute_input": "2024-06-26T18:27:56.094185Z",
          "iopub.status.busy": "2024-06-26T18:27:56.093811Z",
          "iopub.status.idle": "2024-06-26T18:27:56.102741Z",
          "shell.execute_reply": "2024-06-26T18:27:56.101803Z"
        },
        "id": "adf19265",
        "papermill": {
          "duration": 0.029245,
          "end_time": "2024-06-26T18:27:56.104647",
          "exception": false,
          "start_time": "2024-06-26T18:27:56.075402",
          "status": "completed"
        },
        "tags": []
      },
      "outputs": [],
      "source": [
        "df = df[['text', 'target']]"
      ]
    },
    {
      "cell_type": "code",
      "execution_count": 19,
      "id": "3c0b01f4",
      "metadata": {
        "colab": {
          "base_uri": "https://localhost:8080/",
          "height": 206
        },
        "execution": {
          "iopub.execute_input": "2024-06-26T18:27:56.140674Z",
          "iopub.status.busy": "2024-06-26T18:27:56.139881Z",
          "iopub.status.idle": "2024-06-26T18:27:56.148758Z",
          "shell.execute_reply": "2024-06-26T18:27:56.147841Z"
        },
        "id": "3c0b01f4",
        "outputId": "8490b896-8f32-41a3-cfb6-894067a38564",
        "papermill": {
          "duration": 0.028777,
          "end_time": "2024-06-26T18:27:56.150648",
          "exception": false,
          "start_time": "2024-06-26T18:27:56.121871",
          "status": "completed"
        },
        "tags": []
      },
      "outputs": [
        {
          "data": {
            "text/html": [
              "<div>\n",
              "<style scoped>\n",
              "    .dataframe tbody tr th:only-of-type {\n",
              "        vertical-align: middle;\n",
              "    }\n",
              "\n",
              "    .dataframe tbody tr th {\n",
              "        vertical-align: top;\n",
              "    }\n",
              "\n",
              "    .dataframe thead th {\n",
              "        text-align: right;\n",
              "    }\n",
              "</style>\n",
              "<table border=\"1\" class=\"dataframe\">\n",
              "  <thead>\n",
              "    <tr style=\"text-align: right;\">\n",
              "      <th></th>\n",
              "      <th>text</th>\n",
              "      <th>target</th>\n",
              "    </tr>\n",
              "  </thead>\n",
              "  <tbody>\n",
              "    <tr>\n",
              "      <th>0</th>\n",
              "      <td>Payal has accused filmmaker Anurag Kashyap of ...</td>\n",
              "      <td>1</td>\n",
              "    </tr>\n",
              "    <tr>\n",
              "      <th>1</th>\n",
              "      <td>A four-minute-long video of a woman criticisin...</td>\n",
              "      <td>0</td>\n",
              "    </tr>\n",
              "    <tr>\n",
              "      <th>2</th>\n",
              "      <td>Republic Poll, a fake Twitter account imitatin...</td>\n",
              "      <td>0</td>\n",
              "    </tr>\n",
              "    <tr>\n",
              "      <th>3</th>\n",
              "      <td>Delhi teen finds place on UN green list, turns...</td>\n",
              "      <td>1</td>\n",
              "    </tr>\n",
              "    <tr>\n",
              "      <th>4</th>\n",
              "      <td>Delhi: A high-level meeting underway at reside...</td>\n",
              "      <td>1</td>\n",
              "    </tr>\n",
              "    <tr>\n",
              "      <th>5</th>\n",
              "      <td>ROME: Novak Djokovic knows it isn't model beha...</td>\n",
              "      <td>1</td>\n",
              "    </tr>\n",
              "    <tr>\n",
              "      <th>6</th>\n",
              "      <td>A viral image showing controversial Islamic pr...</td>\n",
              "      <td>0</td>\n",
              "    </tr>\n",
              "    <tr>\n",
              "      <th>7</th>\n",
              "      <td>Several photos are being shared with the misle...</td>\n",
              "      <td>0</td>\n",
              "    </tr>\n",
              "    <tr>\n",
              "      <th>8</th>\n",
              "      <td>The driver of the DMU train Arvind Kumar has N...</td>\n",
              "      <td>0</td>\n",
              "    </tr>\n",
              "    <tr>\n",
              "      <th>9</th>\n",
              "      <td>An old video of a Dassault Rafale aircraft's s...</td>\n",
              "      <td>0</td>\n",
              "    </tr>\n",
              "    <tr>\n",
              "      <th>10</th>\n",
              "      <td>Ahmedabad: Crime branch sleuths on Friday held...</td>\n",
              "      <td>1</td>\n",
              "    </tr>\n",
              "    <tr>\n",
              "      <th>11</th>\n",
              "      <td>A video clip of journalist Abhisar Sharma with...</td>\n",
              "      <td>0</td>\n",
              "    </tr>\n",
              "    <tr>\n",
              "      <th>12</th>\n",
              "      <td>Ludhiana: The drain coverage projects have rem...</td>\n",
              "      <td>1</td>\n",
              "    </tr>\n",
              "    <tr>\n",
              "      <th>13</th>\n",
              "      <td>NEW DELHI: Seven of the top 10 most valued dom...</td>\n",
              "      <td>1</td>\n",
              "    </tr>\n",
              "    <tr>\n",
              "      <th>14</th>\n",
              "      <td>A video showing the appalling conditions insid...</td>\n",
              "      <td>0</td>\n",
              "    </tr>\n",
              "    <tr>\n",
              "      <th>15</th>\n",
              "      <td>A woman whose photos were stolen to create the...</td>\n",
              "      <td>0</td>\n",
              "    </tr>\n",
              "    <tr>\n",
              "      <th>17</th>\n",
              "      <td>NEW DELHI: As many as 21 states, mostly ruled ...</td>\n",
              "      <td>1</td>\n",
              "    </tr>\n",
              "    <tr>\n",
              "      <th>18</th>\n",
              "      <td>Kareena Kapoor Khan, who is all set to ring in...</td>\n",
              "      <td>1</td>\n",
              "    </tr>\n",
              "    <tr>\n",
              "      <th>19</th>\n",
              "      <td>A viral WhatsApp forward claiming the life of ...</td>\n",
              "      <td>0</td>\n",
              "    </tr>\n",
              "    <tr>\n",
              "      <th>20</th>\n",
              "      <td>CHANDIGARH: Punjab chief minister Amarinder Si...</td>\n",
              "      <td>1</td>\n",
              "    </tr>\n",
              "  </tbody>\n",
              "</table>\n",
              "</div>"
            ],
            "text/plain": [
              "                                                 text  target\n",
              "0   Payal has accused filmmaker Anurag Kashyap of ...       1\n",
              "1   A four-minute-long video of a woman criticisin...       0\n",
              "2   Republic Poll, a fake Twitter account imitatin...       0\n",
              "3   Delhi teen finds place on UN green list, turns...       1\n",
              "4   Delhi: A high-level meeting underway at reside...       1\n",
              "5   ROME: Novak Djokovic knows it isn't model beha...       1\n",
              "6   A viral image showing controversial Islamic pr...       0\n",
              "7   Several photos are being shared with the misle...       0\n",
              "8   The driver of the DMU train Arvind Kumar has N...       0\n",
              "9   An old video of a Dassault Rafale aircraft's s...       0\n",
              "10  Ahmedabad: Crime branch sleuths on Friday held...       1\n",
              "11  A video clip of journalist Abhisar Sharma with...       0\n",
              "12  Ludhiana: The drain coverage projects have rem...       1\n",
              "13  NEW DELHI: Seven of the top 10 most valued dom...       1\n",
              "14  A video showing the appalling conditions insid...       0\n",
              "15  A woman whose photos were stolen to create the...       0\n",
              "17  NEW DELHI: As many as 21 states, mostly ruled ...       1\n",
              "18  Kareena Kapoor Khan, who is all set to ring in...       1\n",
              "19  A viral WhatsApp forward claiming the life of ...       0\n",
              "20  CHANDIGARH: Punjab chief minister Amarinder Si...       1"
            ]
          },
          "execution_count": 19,
          "metadata": {},
          "output_type": "execute_result"
        }
      ],
      "source": [
        "df.head(20)"
      ]
    },
    {
      "cell_type": "code",
      "execution_count": 21,
      "id": "f734d651",
      "metadata": {
        "colab": {
          "base_uri": "https://localhost:8080/",
          "height": 122
        },
        "execution": {
          "iopub.execute_input": "2024-06-26T18:27:56.186800Z",
          "iopub.status.busy": "2024-06-26T18:27:56.186487Z",
          "iopub.status.idle": "2024-06-26T18:27:56.193183Z",
          "shell.execute_reply": "2024-06-26T18:27:56.192268Z"
        },
        "id": "f734d651",
        "outputId": "4314946a-7769-4067-d507-fea33665abae",
        "papermill": {
          "duration": 0.027148,
          "end_time": "2024-06-26T18:27:56.195228",
          "exception": false,
          "start_time": "2024-06-26T18:27:56.168080",
          "status": "completed"
        },
        "tags": []
      },
      "outputs": [
        {
          "data": {
            "text/plain": [
              "'Ahmedabad: Crime branch sleuths on Friday held a drug peddler Shabbir Shaikh of Jamalpur. He used to sell drugs brought in by Sehjadhussain Tejabwala and Imran Ajmeri from Mumbai. Their supplier, Afaq Bawa was caught by crime branch on Thursday from the border of Maharashtra and Karnataka.On September 12, crime branch had arrested five persons. Three, including an ASI, Firozekhan Nagori, and two others, Mohammed Arif Kazi and Imran Padhiyar were held first from near CTM Crossroads with 995 grams of mephedrone worth Rs 1 crore. The other two, Sehjadhussain Tejabwala and Imran Ajmeri were nabbed from Mumbai. Tejabwala and Ajmeri had bought the mephedrone from Bawa and sent it through Nagori, Kazi and Padhiyar in a car to Ahmedabad.TNN'"
            ]
          },
          "execution_count": 21,
          "metadata": {},
          "output_type": "execute_result"
        }
      ],
      "source": [
        "df['text'][10]"
      ]
    },
    {
      "cell_type": "code",
      "execution_count": 22,
      "id": "168595b0",
      "metadata": {
        "colab": {
          "base_uri": "https://localhost:8080/",
          "height": 174
        },
        "execution": {
          "iopub.execute_input": "2024-06-26T18:27:56.233131Z",
          "iopub.status.busy": "2024-06-26T18:27:56.232788Z",
          "iopub.status.idle": "2024-06-26T18:27:56.238725Z",
          "shell.execute_reply": "2024-06-26T18:27:56.237815Z"
        },
        "id": "168595b0",
        "outputId": "79944a88-6b5a-40b1-d68c-d4dc1a3c6e59",
        "papermill": {
          "duration": 0.027895,
          "end_time": "2024-06-26T18:27:56.240677",
          "exception": false,
          "start_time": "2024-06-26T18:27:56.212782",
          "status": "completed"
        },
        "tags": []
      },
      "outputs": [
        {
          "data": {
            "text/plain": [
              "'Ludhiana: The drain coverage projects have remained a battleground for leaders of the BJP and Congress in central constituency, where from 2004 till 2017 Ganda Nullah coverage project from Gurdwara Dukhniwaran Sahib to Shagun Palace made leaders indulge in credit war. Now, coverage of 1.40 km-long another seasonal drain has started yet another war of words between both parties. Congress MLA from central constituency Surinder Dawar had inaugurated the project on Friday and this led to politics over the project.BJP ex-councillor Inder Aggarwal, whose wife is councillor from ward number 57, rued that the MLA ignored the councillor of the ward at the inauguration and they were not invited for the same. He said if they were in power they would have invited Dawar for the function. However, BJP district president Pushpinder Singal demanded an FIR against Dawar for violating the Covid norms and gathering a large number of people at the spot of inauguration. He asked the Congress leadership whether action would be taken against a Congress MLA.Reacting to the claims of BJP leaders, MLA Dawar attacked them by saying that without putting any effort the BJP leaders wanted to take credit for the project. He said this project was important for this area because the drain was a blot and people were facing many difficulties. He claimed that like Ganda Nullah coverage project was taken up by him in 2004 and in 2007 the government was changed but despite several attempts the project work was not completed during the SAD BJP regime unless he came back in 2017 and got the project was completed. He advised the BJP leaders not to indulge in politics and instead start working for public welfare.'"
            ]
          },
          "execution_count": 22,
          "metadata": {},
          "output_type": "execute_result"
        }
      ],
      "source": [
        "df['text'][12]"
      ]
    },
    {
      "cell_type": "markdown",
      "id": "6601efc0",
      "metadata": {
        "id": "6601efc0",
        "papermill": {
          "duration": 0.017745,
          "end_time": "2024-06-26T18:27:56.276506",
          "exception": false,
          "start_time": "2024-06-26T18:27:56.258761",
          "status": "completed"
        },
        "tags": []
      },
      "source": [
        "---\n",
        "### **Text Preprocessing**\n",
        "---"
      ]
    },
    {
      "cell_type": "markdown",
      "id": "af0a41d6",
      "metadata": {
        "id": "af0a41d6",
        "papermill": {
          "duration": 0.018197,
          "end_time": "2024-06-26T18:27:56.312345",
          "exception": false,
          "start_time": "2024-06-26T18:27:56.294148",
          "status": "completed"
        },
        "tags": []
      },
      "source": [
        "## 3. Data Preprocessing\n",
        "* Lower case\n",
        "* Tokenization\n",
        "* Removing special characters\n",
        "* Removing stop words and punctuation\n",
        "* Stemming"
      ]
    },
    {
      "cell_type": "markdown",
      "id": "2f240be9",
      "metadata": {
        "id": "2f240be9",
        "papermill": {
          "duration": 0.017526,
          "end_time": "2024-06-26T18:27:56.347507",
          "exception": false,
          "start_time": "2024-06-26T18:27:56.329981",
          "status": "completed"
        },
        "tags": []
      },
      "source": [
        "---\n",
        "### Lowercase\n",
        "---"
      ]
    },
    {
      "cell_type": "code",
      "execution_count": 23,
      "id": "2616d1fa",
      "metadata": {
        "execution": {
          "iopub.execute_input": "2024-06-26T18:27:56.385520Z",
          "iopub.status.busy": "2024-06-26T18:27:56.385149Z",
          "iopub.status.idle": "2024-06-26T18:27:56.908201Z",
          "shell.execute_reply": "2024-06-26T18:27:56.907389Z"
        },
        "id": "2616d1fa",
        "papermill": {
          "duration": 0.544876,
          "end_time": "2024-06-26T18:27:56.910501",
          "exception": false,
          "start_time": "2024-06-26T18:27:56.365625",
          "status": "completed"
        },
        "tags": []
      },
      "outputs": [],
      "source": [
        "df['text']=df['text'].str.lower()"
      ]
    },
    {
      "cell_type": "code",
      "execution_count": 24,
      "id": "d9d9eef0",
      "metadata": {
        "colab": {
          "base_uri": "https://localhost:8080/",
          "height": 206
        },
        "execution": {
          "iopub.execute_input": "2024-06-26T18:27:56.947693Z",
          "iopub.status.busy": "2024-06-26T18:27:56.947366Z",
          "iopub.status.idle": "2024-06-26T18:27:56.956380Z",
          "shell.execute_reply": "2024-06-26T18:27:56.955473Z"
        },
        "id": "d9d9eef0",
        "outputId": "561247b0-bc6a-4e44-89fa-7aba44e89266",
        "papermill": {
          "duration": 0.029705,
          "end_time": "2024-06-26T18:27:56.958363",
          "exception": false,
          "start_time": "2024-06-26T18:27:56.928658",
          "status": "completed"
        },
        "tags": []
      },
      "outputs": [
        {
          "data": {
            "text/html": [
              "<div>\n",
              "<style scoped>\n",
              "    .dataframe tbody tr th:only-of-type {\n",
              "        vertical-align: middle;\n",
              "    }\n",
              "\n",
              "    .dataframe tbody tr th {\n",
              "        vertical-align: top;\n",
              "    }\n",
              "\n",
              "    .dataframe thead th {\n",
              "        text-align: right;\n",
              "    }\n",
              "</style>\n",
              "<table border=\"1\" class=\"dataframe\">\n",
              "  <thead>\n",
              "    <tr style=\"text-align: right;\">\n",
              "      <th></th>\n",
              "      <th>text</th>\n",
              "      <th>target</th>\n",
              "    </tr>\n",
              "  </thead>\n",
              "  <tbody>\n",
              "    <tr>\n",
              "      <th>0</th>\n",
              "      <td>payal has accused filmmaker anurag kashyap of ...</td>\n",
              "      <td>1</td>\n",
              "    </tr>\n",
              "    <tr>\n",
              "      <th>1</th>\n",
              "      <td>a four-minute-long video of a woman criticisin...</td>\n",
              "      <td>0</td>\n",
              "    </tr>\n",
              "    <tr>\n",
              "      <th>2</th>\n",
              "      <td>republic poll, a fake twitter account imitatin...</td>\n",
              "      <td>0</td>\n",
              "    </tr>\n",
              "    <tr>\n",
              "      <th>3</th>\n",
              "      <td>delhi teen finds place on un green list, turns...</td>\n",
              "      <td>1</td>\n",
              "    </tr>\n",
              "    <tr>\n",
              "      <th>4</th>\n",
              "      <td>delhi: a high-level meeting underway at reside...</td>\n",
              "      <td>1</td>\n",
              "    </tr>\n",
              "  </tbody>\n",
              "</table>\n",
              "</div>"
            ],
            "text/plain": [
              "                                                text  target\n",
              "0  payal has accused filmmaker anurag kashyap of ...       1\n",
              "1  a four-minute-long video of a woman criticisin...       0\n",
              "2  republic poll, a fake twitter account imitatin...       0\n",
              "3  delhi teen finds place on un green list, turns...       1\n",
              "4  delhi: a high-level meeting underway at reside...       1"
            ]
          },
          "execution_count": 24,
          "metadata": {},
          "output_type": "execute_result"
        }
      ],
      "source": [
        "df.head()"
      ]
    },
    {
      "cell_type": "markdown",
      "id": "0616899d",
      "metadata": {
        "id": "0616899d",
        "papermill": {
          "duration": 0.017465,
          "end_time": "2024-06-26T18:27:56.993621",
          "exception": false,
          "start_time": "2024-06-26T18:27:56.976156",
          "status": "completed"
        },
        "tags": []
      },
      "source": [
        "---\n",
        "## Remove Punctuation\n",
        "---"
      ]
    },
    {
      "cell_type": "code",
      "execution_count": 25,
      "id": "3814283c",
      "metadata": {
        "execution": {
          "iopub.execute_input": "2024-06-26T18:27:57.033965Z",
          "iopub.status.busy": "2024-06-26T18:27:57.033517Z",
          "iopub.status.idle": "2024-06-26T18:27:57.039384Z",
          "shell.execute_reply": "2024-06-26T18:27:57.038119Z"
        },
        "id": "3814283c",
        "papermill": {
          "duration": 0.030273,
          "end_time": "2024-06-26T18:27:57.041622",
          "exception": false,
          "start_time": "2024-06-26T18:27:57.011349",
          "status": "completed"
        },
        "tags": []
      },
      "outputs": [],
      "source": [
        "import string\n",
        "def remove_pun(text):\n",
        "    translator = str.maketrans('', '', string.punctuation)\n",
        "    return text.translate(translator)"
      ]
    },
    {
      "cell_type": "code",
      "execution_count": 26,
      "id": "5de54e63",
      "metadata": {
        "execution": {
          "iopub.execute_input": "2024-06-26T18:27:57.079627Z",
          "iopub.status.busy": "2024-06-26T18:27:57.079272Z",
          "iopub.status.idle": "2024-06-26T18:28:00.420765Z",
          "shell.execute_reply": "2024-06-26T18:28:00.419882Z"
        },
        "id": "5de54e63",
        "papermill": {
          "duration": 3.363583,
          "end_time": "2024-06-26T18:28:00.423238",
          "exception": false,
          "start_time": "2024-06-26T18:27:57.059655",
          "status": "completed"
        },
        "tags": []
      },
      "outputs": [],
      "source": [
        "df['text'] = df['text'].apply(remove_pun)"
      ]
    },
    {
      "cell_type": "code",
      "execution_count": 27,
      "id": "71a38201",
      "metadata": {
        "colab": {
          "base_uri": "https://localhost:8080/",
          "height": 206
        },
        "execution": {
          "iopub.execute_input": "2024-06-26T18:28:00.461202Z",
          "iopub.status.busy": "2024-06-26T18:28:00.460831Z",
          "iopub.status.idle": "2024-06-26T18:28:00.470221Z",
          "shell.execute_reply": "2024-06-26T18:28:00.469189Z"
        },
        "id": "71a38201",
        "outputId": "b0bd3e4d-f08e-497f-dd89-204d22be5a05",
        "papermill": {
          "duration": 0.030739,
          "end_time": "2024-06-26T18:28:00.472395",
          "exception": false,
          "start_time": "2024-06-26T18:28:00.441656",
          "status": "completed"
        },
        "tags": []
      },
      "outputs": [
        {
          "data": {
            "text/html": [
              "<div>\n",
              "<style scoped>\n",
              "    .dataframe tbody tr th:only-of-type {\n",
              "        vertical-align: middle;\n",
              "    }\n",
              "\n",
              "    .dataframe tbody tr th {\n",
              "        vertical-align: top;\n",
              "    }\n",
              "\n",
              "    .dataframe thead th {\n",
              "        text-align: right;\n",
              "    }\n",
              "</style>\n",
              "<table border=\"1\" class=\"dataframe\">\n",
              "  <thead>\n",
              "    <tr style=\"text-align: right;\">\n",
              "      <th></th>\n",
              "      <th>text</th>\n",
              "      <th>target</th>\n",
              "    </tr>\n",
              "  </thead>\n",
              "  <tbody>\n",
              "    <tr>\n",
              "      <th>0</th>\n",
              "      <td>payal has accused filmmaker anurag kashyap of ...</td>\n",
              "      <td>1</td>\n",
              "    </tr>\n",
              "    <tr>\n",
              "      <th>1</th>\n",
              "      <td>a fourminutelong video of a woman criticising ...</td>\n",
              "      <td>0</td>\n",
              "    </tr>\n",
              "    <tr>\n",
              "      <th>2</th>\n",
              "      <td>republic poll a fake twitter account imitating...</td>\n",
              "      <td>0</td>\n",
              "    </tr>\n",
              "    <tr>\n",
              "      <th>3</th>\n",
              "      <td>delhi teen finds place on un green list turns ...</td>\n",
              "      <td>1</td>\n",
              "    </tr>\n",
              "    <tr>\n",
              "      <th>4</th>\n",
              "      <td>delhi a highlevel meeting underway at residenc...</td>\n",
              "      <td>1</td>\n",
              "    </tr>\n",
              "  </tbody>\n",
              "</table>\n",
              "</div>"
            ],
            "text/plain": [
              "                                                text  target\n",
              "0  payal has accused filmmaker anurag kashyap of ...       1\n",
              "1  a fourminutelong video of a woman criticising ...       0\n",
              "2  republic poll a fake twitter account imitating...       0\n",
              "3  delhi teen finds place on un green list turns ...       1\n",
              "4  delhi a highlevel meeting underway at residenc...       1"
            ]
          },
          "execution_count": 27,
          "metadata": {},
          "output_type": "execute_result"
        }
      ],
      "source": [
        "df.head()"
      ]
    },
    {
      "cell_type": "markdown",
      "id": "6172d7a7",
      "metadata": {
        "id": "6172d7a7",
        "papermill": {
          "duration": 0.017936,
          "end_time": "2024-06-26T18:28:00.508492",
          "exception": false,
          "start_time": "2024-06-26T18:28:00.490556",
          "status": "completed"
        },
        "tags": []
      },
      "source": [
        "---\n",
        "## remove stopwords\n",
        "---"
      ]
    },
    {
      "cell_type": "code",
      "execution_count": 30,
      "id": "96a1b8fd",
      "metadata": {},
      "outputs": [],
      "source": [
        "import nltk\n",
        "from nltk.corpus import stopwords"
      ]
    },
    {
      "cell_type": "code",
      "execution_count": 31,
      "id": "6e5080e4",
      "metadata": {
        "execution": {
          "iopub.execute_input": "2024-06-26T18:28:00.546378Z",
          "iopub.status.busy": "2024-06-26T18:28:00.545757Z",
          "iopub.status.idle": "2024-06-26T18:28:00.551462Z",
          "shell.execute_reply": "2024-06-26T18:28:00.550531Z"
        },
        "id": "6e5080e4",
        "papermill": {
          "duration": 0.026791,
          "end_time": "2024-06-26T18:28:00.553379",
          "exception": false,
          "start_time": "2024-06-26T18:28:00.526588",
          "status": "completed"
        },
        "tags": []
      },
      "outputs": [],
      "source": [
        "def remove_stopwords(text):\n",
        "    # Download the stopwords corpus if it hasn't been downloaded already\n",
        "    nltk.download('stopwords', quiet=True)\n",
        "\n",
        "    # Get the list of stopwords\n",
        "    stop_words = set(stopwords.words('english'))\n",
        "\n",
        "    # Split the text into words\n",
        "    words = text.split()\n",
        "\n",
        "    # Remove the stopwords\n",
        "    filtered_words = [word for word in words if word.lower() not in stop_words]\n",
        "\n",
        "    # Join the filtered words back into a single string\n",
        "    filtered_text = ' '.join(filtered_words)\n",
        "\n",
        "    return filtered_text"
      ]
    },
    {
      "cell_type": "code",
      "execution_count": 32,
      "id": "19a9945f",
      "metadata": {
        "execution": {
          "iopub.execute_input": "2024-06-26T18:28:00.590477Z",
          "iopub.status.busy": "2024-06-26T18:28:00.590170Z",
          "iopub.status.idle": "2024-06-26T18:28:12.609578Z",
          "shell.execute_reply": "2024-06-26T18:28:12.608510Z"
        },
        "id": "19a9945f",
        "papermill": {
          "duration": 12.040582,
          "end_time": "2024-06-26T18:28:12.611914",
          "exception": false,
          "start_time": "2024-06-26T18:28:00.571332",
          "status": "completed"
        },
        "tags": []
      },
      "outputs": [],
      "source": [
        "df['text'] = df['text'].apply(remove_stopwords)"
      ]
    },
    {
      "cell_type": "code",
      "execution_count": 33,
      "id": "2f99432c",
      "metadata": {
        "colab": {
          "base_uri": "https://localhost:8080/",
          "height": 206
        },
        "execution": {
          "iopub.execute_input": "2024-06-26T18:28:12.650855Z",
          "iopub.status.busy": "2024-06-26T18:28:12.650507Z",
          "iopub.status.idle": "2024-06-26T18:28:12.659733Z",
          "shell.execute_reply": "2024-06-26T18:28:12.658802Z"
        },
        "id": "2f99432c",
        "outputId": "3e8e8e6b-ece5-4989-968b-5421a2e66335",
        "papermill": {
          "duration": 0.030951,
          "end_time": "2024-06-26T18:28:12.661824",
          "exception": false,
          "start_time": "2024-06-26T18:28:12.630873",
          "status": "completed"
        },
        "tags": []
      },
      "outputs": [
        {
          "data": {
            "text/html": [
              "<div>\n",
              "<style scoped>\n",
              "    .dataframe tbody tr th:only-of-type {\n",
              "        vertical-align: middle;\n",
              "    }\n",
              "\n",
              "    .dataframe tbody tr th {\n",
              "        vertical-align: top;\n",
              "    }\n",
              "\n",
              "    .dataframe thead th {\n",
              "        text-align: right;\n",
              "    }\n",
              "</style>\n",
              "<table border=\"1\" class=\"dataframe\">\n",
              "  <thead>\n",
              "    <tr style=\"text-align: right;\">\n",
              "      <th></th>\n",
              "      <th>text</th>\n",
              "      <th>target</th>\n",
              "    </tr>\n",
              "  </thead>\n",
              "  <tbody>\n",
              "    <tr>\n",
              "      <th>0</th>\n",
              "      <td>payal accused filmmaker anurag kashyap behavin...</td>\n",
              "      <td>1</td>\n",
              "    </tr>\n",
              "    <tr>\n",
              "      <th>1</th>\n",
              "      <td>fourminutelong video woman criticising governm...</td>\n",
              "      <td>0</td>\n",
              "    </tr>\n",
              "    <tr>\n",
              "      <th>2</th>\n",
              "      <td>republic poll fake twitter account imitating a...</td>\n",
              "      <td>0</td>\n",
              "    </tr>\n",
              "    <tr>\n",
              "      <th>3</th>\n",
              "      <td>delhi teen finds place un green list turns gla...</td>\n",
              "      <td>1</td>\n",
              "    </tr>\n",
              "    <tr>\n",
              "      <th>4</th>\n",
              "      <td>delhi highlevel meeting underway residence raj...</td>\n",
              "      <td>1</td>\n",
              "    </tr>\n",
              "  </tbody>\n",
              "</table>\n",
              "</div>"
            ],
            "text/plain": [
              "                                                text  target\n",
              "0  payal accused filmmaker anurag kashyap behavin...       1\n",
              "1  fourminutelong video woman criticising governm...       0\n",
              "2  republic poll fake twitter account imitating a...       0\n",
              "3  delhi teen finds place un green list turns gla...       1\n",
              "4  delhi highlevel meeting underway residence raj...       1"
            ]
          },
          "execution_count": 33,
          "metadata": {},
          "output_type": "execute_result"
        }
      ],
      "source": [
        "df.head()"
      ]
    },
    {
      "cell_type": "markdown",
      "id": "40023386",
      "metadata": {
        "id": "40023386",
        "papermill": {
          "duration": 0.01794,
          "end_time": "2024-06-26T18:28:12.698042",
          "exception": false,
          "start_time": "2024-06-26T18:28:12.680102",
          "status": "completed"
        },
        "tags": []
      },
      "source": [
        "---\n",
        "## **Tokenization**\n",
        "---"
      ]
    },
    {
      "cell_type": "code",
      "execution_count": 34,
      "id": "5aac1431",
      "metadata": {
        "colab": {
          "base_uri": "https://localhost:8080/"
        },
        "execution": {
          "iopub.execute_input": "2024-06-26T18:28:12.736537Z",
          "iopub.status.busy": "2024-06-26T18:28:12.735693Z",
          "iopub.status.idle": "2024-06-26T18:28:12.742008Z",
          "shell.execute_reply": "2024-06-26T18:28:12.741098Z"
        },
        "id": "5aac1431",
        "outputId": "209b5874-2df2-4e3a-c758-4c685957f4f9",
        "papermill": {
          "duration": 0.027806,
          "end_time": "2024-06-26T18:28:12.744110",
          "exception": false,
          "start_time": "2024-06-26T18:28:12.716304",
          "status": "completed"
        },
        "tags": []
      },
      "outputs": [
        {
          "name": "stderr",
          "output_type": "stream",
          "text": [
            "[nltk_data] Downloading package punkt_tab to\n",
            "[nltk_data]     C:\\Users\\owais\\AppData\\Roaming\\nltk_data...\n",
            "[nltk_data]   Package punkt_tab is already up-to-date!\n"
          ]
        }
      ],
      "source": [
        "import re\n",
        "from nltk.corpus import stopwords\n",
        "from nltk.tokenize import word_tokenize\n",
        "\n",
        "nltk.download('punkt_tab')\n",
        "\n",
        "def data_processing(text):\n",
        "    # Remove mentions and hashtags\n",
        "    text = re.sub(r'\\@w+|\\#', '', text)\n",
        "\n",
        "    # Remove punctuation\n",
        "    text = re.sub(r'[^\\w\\s]', '', text)\n",
        "\n",
        "    # Tokenize the text\n",
        "    text_tokens = word_tokenize(text)\n",
        "\n",
        "    # Remove stopwords\n",
        "    stop_words = set(stopwords.words('english'))\n",
        "    filtered_text = [w for w in text_tokens if w.lower() not in stop_words]\n",
        "\n",
        "    return \" \".join(filtered_text)"
      ]
    },
    {
      "cell_type": "code",
      "execution_count": 35,
      "id": "c7c5ff65",
      "metadata": {
        "execution": {
          "iopub.execute_input": "2024-06-26T18:28:12.781964Z",
          "iopub.status.busy": "2024-06-26T18:28:12.781403Z",
          "iopub.status.idle": "2024-06-26T18:29:18.057663Z",
          "shell.execute_reply": "2024-06-26T18:29:18.056540Z"
        },
        "id": "c7c5ff65",
        "papermill": {
          "duration": 65.297953,
          "end_time": "2024-06-26T18:29:18.060230",
          "exception": false,
          "start_time": "2024-06-26T18:28:12.762277",
          "status": "completed"
        },
        "tags": []
      },
      "outputs": [],
      "source": [
        "df['text'] = df['text'].apply(data_processing)"
      ]
    },
    {
      "cell_type": "code",
      "execution_count": 36,
      "id": "440a43c3",
      "metadata": {
        "colab": {
          "base_uri": "https://localhost:8080/",
          "height": 206
        },
        "execution": {
          "iopub.execute_input": "2024-06-26T18:29:18.099325Z",
          "iopub.status.busy": "2024-06-26T18:29:18.098946Z",
          "iopub.status.idle": "2024-06-26T18:29:18.108317Z",
          "shell.execute_reply": "2024-06-26T18:29:18.107393Z"
        },
        "id": "440a43c3",
        "outputId": "943cb2cd-612b-489c-c39e-8821b5ddae08",
        "papermill": {
          "duration": 0.030963,
          "end_time": "2024-06-26T18:29:18.110261",
          "exception": false,
          "start_time": "2024-06-26T18:29:18.079298",
          "status": "completed"
        },
        "tags": []
      },
      "outputs": [
        {
          "data": {
            "text/html": [
              "<div>\n",
              "<style scoped>\n",
              "    .dataframe tbody tr th:only-of-type {\n",
              "        vertical-align: middle;\n",
              "    }\n",
              "\n",
              "    .dataframe tbody tr th {\n",
              "        vertical-align: top;\n",
              "    }\n",
              "\n",
              "    .dataframe thead th {\n",
              "        text-align: right;\n",
              "    }\n",
              "</style>\n",
              "<table border=\"1\" class=\"dataframe\">\n",
              "  <thead>\n",
              "    <tr style=\"text-align: right;\">\n",
              "      <th></th>\n",
              "      <th>text</th>\n",
              "      <th>target</th>\n",
              "    </tr>\n",
              "  </thead>\n",
              "  <tbody>\n",
              "    <tr>\n",
              "      <th>0</th>\n",
              "      <td>payal accused filmmaker anurag kashyap behavin...</td>\n",
              "      <td>1</td>\n",
              "    </tr>\n",
              "    <tr>\n",
              "      <th>1</th>\n",
              "      <td>fourminutelong video woman criticising governm...</td>\n",
              "      <td>0</td>\n",
              "    </tr>\n",
              "    <tr>\n",
              "      <th>2</th>\n",
              "      <td>republic poll fake twitter account imitating a...</td>\n",
              "      <td>0</td>\n",
              "    </tr>\n",
              "    <tr>\n",
              "      <th>3</th>\n",
              "      <td>delhi teen finds place un green list turns gla...</td>\n",
              "      <td>1</td>\n",
              "    </tr>\n",
              "    <tr>\n",
              "      <th>4</th>\n",
              "      <td>delhi highlevel meeting underway residence raj...</td>\n",
              "      <td>1</td>\n",
              "    </tr>\n",
              "  </tbody>\n",
              "</table>\n",
              "</div>"
            ],
            "text/plain": [
              "                                                text  target\n",
              "0  payal accused filmmaker anurag kashyap behavin...       1\n",
              "1  fourminutelong video woman criticising governm...       0\n",
              "2  republic poll fake twitter account imitating a...       0\n",
              "3  delhi teen finds place un green list turns gla...       1\n",
              "4  delhi highlevel meeting underway residence raj...       1"
            ]
          },
          "execution_count": 36,
          "metadata": {},
          "output_type": "execute_result"
        }
      ],
      "source": [
        "df.head()"
      ]
    },
    {
      "cell_type": "code",
      "execution_count": 37,
      "id": "ee1dd185",
      "metadata": {
        "colab": {
          "base_uri": "https://localhost:8080/",
          "height": 174
        },
        "execution": {
          "iopub.execute_input": "2024-06-26T18:29:18.148670Z",
          "iopub.status.busy": "2024-06-26T18:29:18.147895Z",
          "iopub.status.idle": "2024-06-26T18:29:18.154141Z",
          "shell.execute_reply": "2024-06-26T18:29:18.153214Z"
        },
        "id": "ee1dd185",
        "outputId": "d2026430-a652-4d2b-aaae-1a13d769cdeb",
        "papermill": {
          "duration": 0.027352,
          "end_time": "2024-06-26T18:29:18.155979",
          "exception": false,
          "start_time": "2024-06-26T18:29:18.128627",
          "status": "completed"
        },
        "tags": []
      },
      "outputs": [
        {
          "data": {
            "text/plain": [
              "'payal accused filmmaker anurag kashyap behaving inappropriately video went viral maintained stance speaking etimes said wanted speak long time today finally thought must get head tweeted incident sometime ago metoo movement happened many people told delete tweet else would stop getting work manager advised remove tweet complied post anurag blocked whatsapp'"
            ]
          },
          "execution_count": 37,
          "metadata": {},
          "output_type": "execute_result"
        }
      ],
      "source": [
        "df['text'][0]"
      ]
    },
    {
      "cell_type": "markdown",
      "id": "6dbfde74",
      "metadata": {
        "id": "6dbfde74",
        "papermill": {
          "duration": 0.018201,
          "end_time": "2024-06-26T18:29:18.192890",
          "exception": false,
          "start_time": "2024-06-26T18:29:18.174689",
          "status": "completed"
        },
        "tags": []
      },
      "source": [
        "---\n",
        "### Stemmer\n",
        "---"
      ]
    },
    {
      "cell_type": "code",
      "execution_count": 39,
      "id": "e51c9cd5",
      "metadata": {
        "execution": {
          "iopub.execute_input": "2024-06-26T18:29:18.231919Z",
          "iopub.status.busy": "2024-06-26T18:29:18.231011Z",
          "iopub.status.idle": "2024-06-26T18:29:18.236008Z",
          "shell.execute_reply": "2024-06-26T18:29:18.235267Z"
        },
        "id": "e51c9cd5",
        "papermill": {
          "duration": 0.026611,
          "end_time": "2024-06-26T18:29:18.237981",
          "exception": false,
          "start_time": "2024-06-26T18:29:18.211370",
          "status": "completed"
        },
        "tags": []
      },
      "outputs": [],
      "source": [
        "from nltk.stem.porter import PorterStemmer\n",
        "\n",
        "stemmer = PorterStemmer()\n",
        "def stemming(data):\n",
        "    text = [stemmer.stem(word) for word in data]\n",
        "    return data"
      ]
    },
    {
      "cell_type": "code",
      "execution_count": 40,
      "id": "ae808859",
      "metadata": {
        "execution": {
          "iopub.execute_input": "2024-06-26T18:29:18.276497Z",
          "iopub.status.busy": "2024-06-26T18:29:18.276189Z",
          "iopub.status.idle": "2024-06-26T18:30:00.092074Z",
          "shell.execute_reply": "2024-06-26T18:30:00.091000Z"
        },
        "id": "ae808859",
        "papermill": {
          "duration": 41.837892,
          "end_time": "2024-06-26T18:30:00.094567",
          "exception": false,
          "start_time": "2024-06-26T18:29:18.256675",
          "status": "completed"
        },
        "tags": []
      },
      "outputs": [],
      "source": [
        "df['text'] = df['text'].apply(stemming)"
      ]
    },
    {
      "cell_type": "code",
      "execution_count": 41,
      "id": "5e176eb6",
      "metadata": {
        "colab": {
          "base_uri": "https://localhost:8080/",
          "height": 206
        },
        "execution": {
          "iopub.execute_input": "2024-06-26T18:30:00.133958Z",
          "iopub.status.busy": "2024-06-26T18:30:00.133362Z",
          "iopub.status.idle": "2024-06-26T18:30:00.142499Z",
          "shell.execute_reply": "2024-06-26T18:30:00.141608Z"
        },
        "id": "5e176eb6",
        "outputId": "e26039bb-96a8-44f8-a851-91448a920aa5",
        "papermill": {
          "duration": 0.030728,
          "end_time": "2024-06-26T18:30:00.144396",
          "exception": false,
          "start_time": "2024-06-26T18:30:00.113668",
          "status": "completed"
        },
        "tags": []
      },
      "outputs": [
        {
          "data": {
            "text/html": [
              "<div>\n",
              "<style scoped>\n",
              "    .dataframe tbody tr th:only-of-type {\n",
              "        vertical-align: middle;\n",
              "    }\n",
              "\n",
              "    .dataframe tbody tr th {\n",
              "        vertical-align: top;\n",
              "    }\n",
              "\n",
              "    .dataframe thead th {\n",
              "        text-align: right;\n",
              "    }\n",
              "</style>\n",
              "<table border=\"1\" class=\"dataframe\">\n",
              "  <thead>\n",
              "    <tr style=\"text-align: right;\">\n",
              "      <th></th>\n",
              "      <th>text</th>\n",
              "      <th>target</th>\n",
              "    </tr>\n",
              "  </thead>\n",
              "  <tbody>\n",
              "    <tr>\n",
              "      <th>0</th>\n",
              "      <td>payal accused filmmaker anurag kashyap behavin...</td>\n",
              "      <td>1</td>\n",
              "    </tr>\n",
              "    <tr>\n",
              "      <th>1</th>\n",
              "      <td>fourminutelong video woman criticising governm...</td>\n",
              "      <td>0</td>\n",
              "    </tr>\n",
              "    <tr>\n",
              "      <th>2</th>\n",
              "      <td>republic poll fake twitter account imitating a...</td>\n",
              "      <td>0</td>\n",
              "    </tr>\n",
              "    <tr>\n",
              "      <th>3</th>\n",
              "      <td>delhi teen finds place un green list turns gla...</td>\n",
              "      <td>1</td>\n",
              "    </tr>\n",
              "    <tr>\n",
              "      <th>4</th>\n",
              "      <td>delhi highlevel meeting underway residence raj...</td>\n",
              "      <td>1</td>\n",
              "    </tr>\n",
              "  </tbody>\n",
              "</table>\n",
              "</div>"
            ],
            "text/plain": [
              "                                                text  target\n",
              "0  payal accused filmmaker anurag kashyap behavin...       1\n",
              "1  fourminutelong video woman criticising governm...       0\n",
              "2  republic poll fake twitter account imitating a...       0\n",
              "3  delhi teen finds place un green list turns gla...       1\n",
              "4  delhi highlevel meeting underway residence raj...       1"
            ]
          },
          "execution_count": 41,
          "metadata": {},
          "output_type": "execute_result"
        }
      ],
      "source": [
        "df.head()"
      ]
    },
    {
      "cell_type": "markdown",
      "id": "d584c251",
      "metadata": {
        "id": "d584c251",
        "papermill": {
          "duration": 0.032179,
          "end_time": "2024-06-26T18:31:13.069013",
          "exception": false,
          "start_time": "2024-06-26T18:31:13.036834",
          "status": "completed"
        },
        "tags": []
      },
      "source": [
        "---\n",
        "## **spliting into x and y**\n",
        "---"
      ]
    },
    {
      "cell_type": "code",
      "execution_count": 42,
      "id": "fe8ccee9",
      "metadata": {
        "execution": {
          "iopub.execute_input": "2024-06-26T18:31:13.135791Z",
          "iopub.status.busy": "2024-06-26T18:31:13.134882Z",
          "iopub.status.idle": "2024-06-26T18:31:13.139769Z",
          "shell.execute_reply": "2024-06-26T18:31:13.138822Z"
        },
        "id": "fe8ccee9",
        "papermill": {
          "duration": 0.040471,
          "end_time": "2024-06-26T18:31:13.141726",
          "exception": false,
          "start_time": "2024-06-26T18:31:13.101255",
          "status": "completed"
        },
        "tags": []
      },
      "outputs": [],
      "source": [
        "X = df['text']\n",
        "Y = df['target']"
      ]
    },
    {
      "cell_type": "markdown",
      "id": "795c7d48",
      "metadata": {
        "id": "795c7d48",
        "papermill": {
          "duration": 0.031832,
          "end_time": "2024-06-26T18:31:13.205747",
          "exception": false,
          "start_time": "2024-06-26T18:31:13.173915",
          "status": "completed"
        },
        "tags": []
      },
      "source": [
        "---\n",
        "## **TfidfVectorizer**\n",
        "---"
      ]
    },
    {
      "cell_type": "code",
      "execution_count": 43,
      "id": "8151763e",
      "metadata": {
        "execution": {
          "iopub.execute_input": "2024-06-26T18:31:13.272337Z",
          "iopub.status.busy": "2024-06-26T18:31:13.271463Z",
          "iopub.status.idle": "2024-06-26T18:31:23.169947Z",
          "shell.execute_reply": "2024-06-26T18:31:23.169081Z"
        },
        "id": "8151763e",
        "papermill": {
          "duration": 9.93454,
          "end_time": "2024-06-26T18:31:23.172397",
          "exception": false,
          "start_time": "2024-06-26T18:31:13.237857",
          "status": "completed"
        },
        "tags": []
      },
      "outputs": [],
      "source": [
        "from sklearn.feature_extraction.text import TfidfVectorizer\n",
        "vect = TfidfVectorizer()\n",
        "X = vect.fit_transform(df['text'])"
      ]
    },
    {
      "cell_type": "markdown",
      "id": "ca1ac872",
      "metadata": {
        "id": "ca1ac872",
        "papermill": {
          "duration": 0.03175,
          "end_time": "2024-06-26T18:31:23.237066",
          "exception": false,
          "start_time": "2024-06-26T18:31:23.205316",
          "status": "completed"
        },
        "tags": []
      },
      "source": [
        "---\n",
        "## **train_test_split**\n",
        "---"
      ]
    },
    {
      "cell_type": "code",
      "execution_count": null,
      "id": "acd45309",
      "metadata": {},
      "outputs": [],
      "source": []
    },
    {
      "cell_type": "code",
      "execution_count": 44,
      "id": "413a65a4",
      "metadata": {
        "execution": {
          "iopub.execute_input": "2024-06-26T18:31:23.303254Z",
          "iopub.status.busy": "2024-06-26T18:31:23.302532Z",
          "iopub.status.idle": "2024-06-26T18:31:23.343526Z",
          "shell.execute_reply": "2024-06-26T18:31:23.342661Z"
        },
        "id": "413a65a4",
        "papermill": {
          "duration": 0.07646,
          "end_time": "2024-06-26T18:31:23.345835",
          "exception": false,
          "start_time": "2024-06-26T18:31:23.269375",
          "status": "completed"
        },
        "tags": []
      },
      "outputs": [],
      "source": [
        "from sklearn.model_selection import train_test_split\n",
        "x_train, x_test, y_train, y_test = train_test_split(X, Y, test_size=0.3, random_state=42)"
      ]
    },
    {
      "cell_type": "code",
      "execution_count": 45,
      "id": "0f0ded64",
      "metadata": {
        "colab": {
          "base_uri": "https://localhost:8080/"
        },
        "execution": {
          "iopub.execute_input": "2024-06-26T18:31:23.413038Z",
          "iopub.status.busy": "2024-06-26T18:31:23.412393Z",
          "iopub.status.idle": "2024-06-26T18:31:23.418174Z",
          "shell.execute_reply": "2024-06-26T18:31:23.417167Z"
        },
        "id": "0f0ded64",
        "outputId": "3f55242d-5f1e-4507-afe2-34a3dbcb398f",
        "papermill": {
          "duration": 0.041812,
          "end_time": "2024-06-26T18:31:23.420782",
          "exception": false,
          "start_time": "2024-06-26T18:31:23.378970",
          "status": "completed"
        },
        "tags": []
      },
      "outputs": [
        {
          "name": "stdout",
          "output_type": "stream",
          "text": [
            "Size of x_train:  (1560, 47611)\n",
            "Size of y_train:  (1560,)\n",
            "Size of x_test:  (669, 47611)\n",
            "Size of y_test:  (669,)\n"
          ]
        }
      ],
      "source": [
        "print(\"Size of x_train: \", (x_train.shape))\n",
        "print(\"Size of y_train: \", (y_train.shape))\n",
        "print(\"Size of x_test: \", (x_test.shape))\n",
        "print(\"Size of y_test: \", (y_test.shape))"
      ]
    },
    {
      "cell_type": "code",
      "execution_count": 46,
      "id": "9f8c1026",
      "metadata": {
        "colab": {
          "base_uri": "https://localhost:8080/"
        },
        "execution": {
          "iopub.execute_input": "2024-06-26T18:31:23.486758Z",
          "iopub.status.busy": "2024-06-26T18:31:23.486182Z",
          "iopub.status.idle": "2024-06-26T18:31:24.035554Z",
          "shell.execute_reply": "2024-06-26T18:31:24.034531Z"
        },
        "id": "9f8c1026",
        "outputId": "9b4af764-fad3-4809-c9fc-cd6606604015",
        "papermill": {
          "duration": 0.585005,
          "end_time": "2024-06-26T18:31:24.037833",
          "exception": false,
          "start_time": "2024-06-26T18:31:23.452828",
          "status": "completed"
        },
        "tags": []
      },
      "outputs": [
        {
          "name": "stdout",
          "output_type": "stream",
          "text": [
            "Test accuracy: 99.55%\n"
          ]
        }
      ],
      "source": [
        "from sklearn.svm import LinearSVC\n",
        "from sklearn.metrics import accuracy_score\n",
        "\n",
        "svc = LinearSVC()\n",
        "svc.fit(x_train, y_train)\n",
        "svc_pred = svc.predict(x_test)\n",
        "svc_acc = accuracy_score(y_test, svc_pred)\n",
        "\n",
        "print(\"Test accuracy: {:.2f}%\".format(svc_acc * 100))\n"
      ]
    },
    {
      "cell_type": "code",
      "execution_count": 47,
      "id": "PjEnLDgYTSMC",
      "metadata": {
        "colab": {
          "base_uri": "https://localhost:8080/",
          "height": 105
        },
        "id": "PjEnLDgYTSMC",
        "outputId": "ef836081-d2b6-4f47-f4ba-6c176d6f9c23"
      },
      "outputs": [
        {
          "data": {
            "text/plain": [
              "'delhi teen finds place un green list turns glass sand new delhi udit singhal founded startup turn glass bottles sand named among 17 people united nations 2020 class young leaders sustainable development goals sdgs programme flagship initiative recognises efforts young people driving action galvanising others support uns 2030 agenda sustainable developmentsinghal 18yearold lives near mandi house told toi feel proud represent india along 16 others ill work motivate youths achieve sdgs hope able encourage communities inculcate better civic sense create sustainable living spaces teenager attended un function online due covid pandemic normal scenario would gone new york addedsinghal founded glass2sand 2019 zerowaste system turns bottles economically viable sand 2018 found pile bottles home research learnt ragpickers interested collecting glass bottles little demand high transportation cost storage space empty glass bottles often ended landfills know takes million years glass bottle decomposesinghal imported machine new zealand special grant new zealand high commissioner india went work helped 65 volunteers six diplomatic missions four institutions collecting bottles across delhi takes five seconds turn one empty glass bottle sand crushed 8000 kg bottles 4800 kg highgrade silica sand far said silica sand commercially viable used construction including roads lining furnaces valuable river sand making concretesinghal studied british school delhi currently freshman university college london management sciences studentother young leaders cited jayathma wickramanayake un secretarygenerals envoy youth leading way shaping sustainable inclusive future belong united states turkey china pakistan peru egypt senegal bulgaria nigeria brazil liberia ireland colombia australia uganda bangladesh'"
            ]
          },
          "execution_count": 47,
          "metadata": {},
          "output_type": "execute_result"
        }
      ],
      "source": [
        "df['text'][3]"
      ]
    },
    {
      "cell_type": "code",
      "execution_count": 48,
      "id": "6222a8dc",
      "metadata": {
        "colab": {
          "base_uri": "https://localhost:8080/"
        },
        "execution": {
          "iopub.execute_input": "2024-06-26T18:31:24.104798Z",
          "iopub.status.busy": "2024-06-26T18:31:24.104113Z",
          "iopub.status.idle": "2024-06-26T18:31:24.144268Z",
          "shell.execute_reply": "2024-06-26T18:31:24.142870Z"
        },
        "id": "6222a8dc",
        "outputId": "53579aa7-1135-41b6-cbfe-2dfc4e104515",
        "papermill": {
          "duration": 0.075582,
          "end_time": "2024-06-26T18:31:24.146316",
          "exception": false,
          "start_time": "2024-06-26T18:31:24.070734",
          "status": "completed"
        },
        "tags": []
      },
      "outputs": [
        {
          "name": "stdout",
          "output_type": "stream",
          "text": [
            "[[553   0]\n",
            " [  3 113]]\n",
            "\n",
            "\n",
            "              precision    recall  f1-score   support\n",
            "\n",
            "           0       0.99      1.00      1.00       553\n",
            "           1       1.00      0.97      0.99       116\n",
            "\n",
            "    accuracy                           1.00       669\n",
            "   macro avg       1.00      0.99      0.99       669\n",
            "weighted avg       1.00      1.00      1.00       669\n",
            "\n"
          ]
        }
      ],
      "source": [
        "from sklearn.metrics import confusion_matrix, classification_report\n",
        "print(confusion_matrix(y_test, svc_pred))\n",
        "print(\"\\n\")\n",
        "print(classification_report(y_test, svc_pred))"
      ]
    },
    {
      "cell_type": "code",
      "execution_count": 49,
      "id": "Zqzgiuc3hJfC",
      "metadata": {
        "colab": {
          "base_uri": "https://localhost:8080/",
          "height": 206
        },
        "id": "Zqzgiuc3hJfC",
        "outputId": "f512020f-fa16-4447-cbcf-685dda0ba6f9"
      },
      "outputs": [
        {
          "data": {
            "text/html": [
              "<div>\n",
              "<style scoped>\n",
              "    .dataframe tbody tr th:only-of-type {\n",
              "        vertical-align: middle;\n",
              "    }\n",
              "\n",
              "    .dataframe tbody tr th {\n",
              "        vertical-align: top;\n",
              "    }\n",
              "\n",
              "    .dataframe thead th {\n",
              "        text-align: right;\n",
              "    }\n",
              "</style>\n",
              "<table border=\"1\" class=\"dataframe\">\n",
              "  <thead>\n",
              "    <tr style=\"text-align: right;\">\n",
              "      <th></th>\n",
              "      <th>text</th>\n",
              "      <th>target</th>\n",
              "    </tr>\n",
              "  </thead>\n",
              "  <tbody>\n",
              "    <tr>\n",
              "      <th>0</th>\n",
              "      <td>payal accused filmmaker anurag kashyap behavin...</td>\n",
              "      <td>1</td>\n",
              "    </tr>\n",
              "    <tr>\n",
              "      <th>1</th>\n",
              "      <td>fourminutelong video woman criticising governm...</td>\n",
              "      <td>0</td>\n",
              "    </tr>\n",
              "    <tr>\n",
              "      <th>2</th>\n",
              "      <td>republic poll fake twitter account imitating a...</td>\n",
              "      <td>0</td>\n",
              "    </tr>\n",
              "    <tr>\n",
              "      <th>3</th>\n",
              "      <td>delhi teen finds place un green list turns gla...</td>\n",
              "      <td>1</td>\n",
              "    </tr>\n",
              "    <tr>\n",
              "      <th>4</th>\n",
              "      <td>delhi highlevel meeting underway residence raj...</td>\n",
              "      <td>1</td>\n",
              "    </tr>\n",
              "  </tbody>\n",
              "</table>\n",
              "</div>"
            ],
            "text/plain": [
              "                                                text  target\n",
              "0  payal accused filmmaker anurag kashyap behavin...       1\n",
              "1  fourminutelong video woman criticising governm...       0\n",
              "2  republic poll fake twitter account imitating a...       0\n",
              "3  delhi teen finds place un green list turns gla...       1\n",
              "4  delhi highlevel meeting underway residence raj...       1"
            ]
          },
          "execution_count": 49,
          "metadata": {},
          "output_type": "execute_result"
        }
      ],
      "source": [
        "df.head()"
      ]
    },
    {
      "cell_type": "code",
      "execution_count": 57,
      "id": "053d92d4",
      "metadata": {},
      "outputs": [
        {
          "data": {
            "text/plain": [
              "'republic poll fake twitter account imitating arnab goswamiled republic tv angering netizens controversial polls twitter users including journalists mistake channels official account fake account republicpoll uses logo similar republic tvs logo mention bio whether related republic tv fan account twitters rules require fan account parody account indicate also readdid nita ambani ask support caa siddharth varadarajan founding editor wirein deleted tweet shared screenshot poll fake account claiming poll run nationalistic media house hilarious despite desperate phrasing question poll run nationalist media house ended condemning innocent minority jnu abvp pictwittercomgqgtzfeu26 siddharth svaradarajan january 7 2020 several twitter users pointed account fake varadarajan later clarified parody account told republicpoll parody account kinda makes sense since republic tv parody news channel siddharth svaradarajan january 7 2020 nudge polling via carefully placed words like goons minority jnu doesnt seem work pictwittercomvfa2dfxvst andy mukherjee andymukherjee70 january 6 2020 click view archive compared official logo republic tv logo used fake twitter account found match fake account verified created april 1 2019 whereas republic tv official twitter account created december 2016 republic tv republic conducting polls official twitter handle tukdegangspotted pattern protests republic republic january 6 2020 fake account regularly tweeting polls writing article 244 tweets controversial polls currently 2671 followers whereas official republic tv twitter account 769 lakh followers following loaded polls republicpoll fake account tweeting polls recent issues framing ideologically right wing slant click view archive click view archive swarabhaskar valid document question arises lately anarkali travel around world without passport republic poll republicpoll january 5 2020 click view archive several twitter users taken account polls fake account also deleted polls favorable despite best attempts trying sway votes calling jnu students goons abvp minority peoples votes show culprit chutiya ghar jao kutton pictwittercom8of3ejmt3p rutujaऋतज havaldarshinde january 6 2020'"
            ]
          },
          "execution_count": 57,
          "metadata": {},
          "output_type": "execute_result"
        }
      ],
      "source": [
        "df['text'][2]"
      ]
    },
    {
      "cell_type": "code",
      "execution_count": 50,
      "id": "c408f49b",
      "metadata": {
        "colab": {
          "base_uri": "https://localhost:8080/"
        },
        "execution": {
          "iopub.execute_input": "2024-06-26T18:31:24.217844Z",
          "iopub.status.busy": "2024-06-26T18:31:24.217240Z",
          "iopub.status.idle": "2024-06-26T18:31:24.800645Z",
          "shell.execute_reply": "2024-06-26T18:31:24.799309Z"
        },
        "id": "c408f49b",
        "outputId": "285e5ef3-8356-408f-ba9f-3791a0cb0199",
        "papermill": {
          "duration": 0.619264,
          "end_time": "2024-06-26T18:31:24.802561",
          "exception": true,
          "start_time": "2024-06-26T18:31:24.183297",
          "status": "failed"
        },
        "tags": []
      },
      "outputs": [
        {
          "name": "stdout",
          "output_type": "stream",
          "text": [
            "The news is classified as: {output = Real News}\n"
          ]
        }
      ],
      "source": [
        "# Function to predict the news type\n",
        "def predict_news_type(news_text):\n",
        "    news_vectorized = vect.transform([news_text])\n",
        "    prediction = svc.predict(news_vectorized)\n",
        "    if prediction[0] == 1:\n",
        "        return \"{output = Real News}\"\n",
        "    else:\n",
        "        return \"{output = Fake News}\"\n",
        "\n",
        "# Get user input\n",
        "user_news = df['text'][3]\n",
        "# Predict the news type\n",
        "news_type = predict_news_type(user_news)\n",
        "print(f\"The news is classified as: {news_type}\")"
      ]
    },
    {
      "cell_type": "markdown",
      "id": "HCcQT66YU8L2",
      "metadata": {
        "id": "HCcQT66YU8L2"
      },
      "source": [
        "## Saving the Model"
      ]
    },
    {
      "cell_type": "code",
      "execution_count": 54,
      "id": "DVymesqGU-Sk",
      "metadata": {
        "colab": {
          "base_uri": "https://localhost:8080/"
        },
        "id": "DVymesqGU-Sk",
        "outputId": "ab0c4408-109c-4442-ba02-924f4c7ecc65"
      },
      "outputs": [
        {
          "data": {
            "text/plain": [
              "['FND_linear_svc_model_india.pkl']"
            ]
          },
          "execution_count": 54,
          "metadata": {},
          "output_type": "execute_result"
        }
      ],
      "source": [
        "import joblib\n",
        "\n",
        "# Saving the model to a file\n",
        "joblib.dump(svc, 'FND_linear_svc_model_india.pkl')"
      ]
    },
    {
      "cell_type": "code",
      "execution_count": 55,
      "id": "xnPgkjIiU-4g",
      "metadata": {
        "colab": {
          "base_uri": "https://localhost:8080/"
        },
        "id": "xnPgkjIiU-4g",
        "outputId": "43739c96-91cb-4109-ef08-e5fcede4bccc"
      },
      "outputs": [
        {
          "data": {
            "text/plain": [
              "['FND_vectorizer_india.pkl']"
            ]
          },
          "execution_count": 55,
          "metadata": {},
          "output_type": "execute_result"
        }
      ],
      "source": [
        "joblib.dump(vect, 'FND_vectorizer_india.pkl')"
      ]
    },
    {
      "cell_type": "code",
      "execution_count": 56,
      "id": "kyxuPZHZVQ6v",
      "metadata": {
        "colab": {
          "base_uri": "https://localhost:8080/"
        },
        "id": "kyxuPZHZVQ6v",
        "outputId": "d44803af-c0ad-4e5d-9dd8-2729581097c8"
      },
      "outputs": [
        {
          "name": "stdout",
          "output_type": "stream",
          "text": [
            "The news is classified as: {output = Real News}\n"
          ]
        }
      ],
      "source": [
        "# Load the trained model and vectorizer\n",
        "svcs = joblib.load('FND_linear_svc_model_india.pkl')\n",
        "vects = joblib.load('FND_vectorizer_india.pkl')\n",
        "\n",
        "# Function to predict the news type\n",
        "def predict_news_type(news_text):\n",
        "    news_vectorized = vects.transform([news_text])\n",
        "    prediction = svcs.predict(news_vectorized)\n",
        "    if prediction[0] == 1:\n",
        "        return \"{output = Real News}\"\n",
        "    else:\n",
        "        return \"{output = Fake News}\"\n",
        "\n",
        "# Get user input\n",
        "user_news = \"\"\"san francisco reuters california attorney general xavier becerra said friday prepared take whatever action takes defend obamacare mandate health insurers provide birth control trump administration moved circumvent administrations new contraception exemptions another example trump administration trampling peoples rights case women becerra told reuters becerra democratic attorneys general filed courtroom challenges trump administration policies involving healthcare immigration environment\"\"\"\n",
        "\n",
        "# Predict the news type\n",
        "news_type = predict_news_type(user_news)\n",
        "print(f\"The news is classified as: {news_type}\")\n"
      ]
    },
    {
      "cell_type": "code",
      "execution_count": 87,
      "id": "B0YhD5jaVcTn",
      "metadata": {
        "id": "B0YhD5jaVcTn"
      },
      "outputs": [],
      "source": []
    }
  ],
  "metadata": {
    "accelerator": "GPU",
    "colab": {
      "gpuType": "A100",
      "machine_shape": "hm",
      "provenance": []
    },
    "kaggle": {
      "accelerator": "none",
      "dataSources": [
        {
          "datasetId": 2712039,
          "sourceId": 4679796,
          "sourceType": "datasetVersion"
        }
      ],
      "dockerImageVersionId": 30732,
      "isGpuEnabled": false,
      "isInternetEnabled": true,
      "language": "python",
      "sourceType": "notebook"
    },
    "kernelspec": {
      "display_name": "Python 3",
      "name": "python3"
    },
    "language_info": {
      "codemirror_mode": {
        "name": "ipython",
        "version": 3
      },
      "file_extension": ".py",
      "mimetype": "text/x-python",
      "name": "python",
      "nbconvert_exporter": "python",
      "pygments_lexer": "ipython3",
      "version": "3.12.0"
    },
    "papermill": {
      "default_parameters": {},
      "duration": 220.222261,
      "end_time": "2024-06-26T18:31:25.556276",
      "environment_variables": {},
      "exception": true,
      "input_path": "__notebook__.ipynb",
      "output_path": "__notebook__.ipynb",
      "parameters": {},
      "start_time": "2024-06-26T18:27:45.334015",
      "version": "2.5.0"
    }
  },
  "nbformat": 4,
  "nbformat_minor": 5
}
